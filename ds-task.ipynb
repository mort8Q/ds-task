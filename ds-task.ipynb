{
 "cells": [
  {
   "cell_type": "markdown",
   "metadata": {},
   "source": [
    "## Data Science Position Task"
   ]
  },
  {
   "cell_type": "markdown",
   "metadata": {},
   "source": [
    "#### 1-  Objective and Hypothesis"
   ]
  },
  {
   "cell_type": "markdown",
   "metadata": {},
   "source": [
    "###### The objective of this task is to conclude whether or not people in the Muslim world die more often in month of Shaban. I will be using a ###### combination of hypothesis testing and data exploration to support any claims.\n",
    "\n",
    "###### The null hypothesis (H<sub>0</sub>) is that average number of the deaths for all months are the same. \n",
    "###### The alternate hypothesis (H<sub>a</sub>) is that the average number of deaths of the month of Shaban is more than all months."
   ]
  },
  {
   "cell_type": "markdown",
   "metadata": {},
   "source": [
    "#### 2- Data Collection "
   ]
  },
  {
   "cell_type": "code",
   "execution_count": 2,
   "metadata": {},
   "outputs": [],
   "source": [
    "# import required python packages \n",
    "import pandas as pd\n",
    "import numpy as np "
   ]
  },
  {
   "cell_type": "code",
   "execution_count": 27,
   "metadata": {},
   "outputs": [],
   "source": [
    "data = pd.read_csv('./data/data.csv', names=['name', 'gender', 'nationality', 'age', 'burial_date'], skiprows=1)"
   ]
  },
  {
   "cell_type": "code",
   "execution_count": 28,
   "metadata": {},
   "outputs": [
    {
     "data": {
      "text/html": [
       "<div>\n",
       "<style scoped>\n",
       "    .dataframe tbody tr th:only-of-type {\n",
       "        vertical-align: middle;\n",
       "    }\n",
       "\n",
       "    .dataframe tbody tr th {\n",
       "        vertical-align: top;\n",
       "    }\n",
       "\n",
       "    .dataframe thead th {\n",
       "        text-align: right;\n",
       "    }\n",
       "</style>\n",
       "<table border=\"1\" class=\"dataframe\">\n",
       "  <thead>\n",
       "    <tr style=\"text-align: right;\">\n",
       "      <th></th>\n",
       "      <th>name</th>\n",
       "      <th>gender</th>\n",
       "      <th>nationality</th>\n",
       "      <th>age</th>\n",
       "      <th>burial_date</th>\n",
       "    </tr>\n",
       "  </thead>\n",
       "  <tbody>\n",
       "    <tr>\n",
       "      <th>0</th>\n",
       "      <td>عيشه بنت محمد تكروني</td>\n",
       "      <td>أنثى</td>\n",
       "      <td>سعودي</td>\n",
       "      <td>NaN</td>\n",
       "      <td>1364/08/29</td>\n",
       "    </tr>\n",
       "    <tr>\n",
       "      <th>1</th>\n",
       "      <td>عفيه بنت محمد</td>\n",
       "      <td>أنثى</td>\n",
       "      <td>سعودي</td>\n",
       "      <td>NaN</td>\n",
       "      <td>1364/08/29</td>\n",
       "    </tr>\n",
       "    <tr>\n",
       "      <th>2</th>\n",
       "      <td>منير بنت عوده</td>\n",
       "      <td>أنثى</td>\n",
       "      <td>سعودي</td>\n",
       "      <td>2 سنة</td>\n",
       "      <td>1365/01/10</td>\n",
       "    </tr>\n",
       "    <tr>\n",
       "      <th>3</th>\n",
       "      <td>زهره علي بادري</td>\n",
       "      <td>أنثى</td>\n",
       "      <td>سعودي</td>\n",
       "      <td>50 سنة</td>\n",
       "      <td>1365/04/17</td>\n",
       "    </tr>\n",
       "    <tr>\n",
       "      <th>4</th>\n",
       "      <td>زينب بنت عقل سي</td>\n",
       "      <td>أنثى</td>\n",
       "      <td>سعودي</td>\n",
       "      <td>NaN</td>\n",
       "      <td>1365/05/22</td>\n",
       "    </tr>\n",
       "  </tbody>\n",
       "</table>\n",
       "</div>"
      ],
      "text/plain": [
       "                   name gender nationality     age burial_date\n",
       "0  عيشه بنت محمد تكروني   أنثى       سعودي     NaN  1364/08/29\n",
       "1         عفيه بنت محمد   أنثى       سعودي     NaN  1364/08/29\n",
       "2         منير بنت عوده   أنثى       سعودي   2 سنة  1365/01/10\n",
       "3        زهره علي بادري   أنثى       سعودي  50 سنة  1365/04/17\n",
       "4       زينب بنت عقل سي   أنثى       سعودي     NaN  1365/05/22"
      ]
     },
     "execution_count": 28,
     "metadata": {},
     "output_type": "execute_result"
    }
   ],
   "source": [
    "data.head()"
   ]
  },
  {
   "cell_type": "code",
   "execution_count": 35,
   "metadata": {},
   "outputs": [
    {
     "data": {
      "text/plain": [
       "name           object\n",
       "gender         object\n",
       "nationality    object\n",
       "age            object\n",
       "burial_date    object\n",
       "dtype: object"
      ]
     },
     "execution_count": 35,
     "metadata": {},
     "output_type": "execute_result"
    }
   ],
   "source": [
    "# check the column data types\n",
    "data.dtypes"
   ]
  },
  {
   "cell_type": "code",
   "execution_count": 29,
   "metadata": {},
   "outputs": [
    {
     "name": "stdout",
     "output_type": "stream",
     "text": [
      "(1500, 5)\n"
     ]
    },
    {
     "data": {
      "text/plain": [
       "name            0\n",
       "gender          0\n",
       "nationality     3\n",
       "age            38\n",
       "burial_date     0\n",
       "dtype: int64"
      ]
     },
     "execution_count": 29,
     "metadata": {},
     "output_type": "execute_result"
    }
   ],
   "source": [
    "# check for the shape of the data \n",
    "print(data.shape)\n",
    "\n",
    "# explore data for any nulls\n",
    "data.isna().sum()"
   ]
  },
  {
   "cell_type": "code",
   "execution_count": 30,
   "metadata": {},
   "outputs": [],
   "source": [
    "# We can ignore the nulls in the age column since we are interested in the total number of deaths in each month\n",
    "# In another senario this needs more investigation. "
   ]
  },
  {
   "cell_type": "code",
   "execution_count": 31,
   "metadata": {},
   "outputs": [
    {
     "name": "stdout",
     "output_type": "stream",
     "text": [
      "(12, 5)\n"
     ]
    },
    {
     "data": {
      "text/html": [
       "<div>\n",
       "<style scoped>\n",
       "    .dataframe tbody tr th:only-of-type {\n",
       "        vertical-align: middle;\n",
       "    }\n",
       "\n",
       "    .dataframe tbody tr th {\n",
       "        vertical-align: top;\n",
       "    }\n",
       "\n",
       "    .dataframe thead th {\n",
       "        text-align: right;\n",
       "    }\n",
       "</style>\n",
       "<table border=\"1\" class=\"dataframe\">\n",
       "  <thead>\n",
       "    <tr style=\"text-align: right;\">\n",
       "      <th></th>\n",
       "      <th>name</th>\n",
       "      <th>gender</th>\n",
       "      <th>nationality</th>\n",
       "      <th>age</th>\n",
       "      <th>burial_date</th>\n",
       "    </tr>\n",
       "  </thead>\n",
       "  <tbody>\n",
       "    <tr>\n",
       "      <th>452</th>\n",
       "      <td>الامير الحسن الرضا السنوسي</td>\n",
       "      <td>ذكر</td>\n",
       "      <td>ليبي</td>\n",
       "      <td>65 سنة</td>\n",
       "      <td>1412/11/01</td>\n",
       "    </tr>\n",
       "    <tr>\n",
       "      <th>803</th>\n",
       "      <td>حسن حاج حسين نصرتي</td>\n",
       "      <td>ذكر</td>\n",
       "      <td>إيراني</td>\n",
       "      <td>62 سنة</td>\n",
       "      <td>1412/12/22</td>\n",
       "    </tr>\n",
       "    <tr>\n",
       "      <th>819</th>\n",
       "      <td>عثمان علي مهرام</td>\n",
       "      <td>ذكر</td>\n",
       "      <td>باكستاني</td>\n",
       "      <td>57 سنة</td>\n",
       "      <td>1412/12/24</td>\n",
       "    </tr>\n",
       "    <tr>\n",
       "      <th>820</th>\n",
       "      <td>عثمان علي مهرام</td>\n",
       "      <td>ذكر</td>\n",
       "      <td>باكستاني</td>\n",
       "      <td>57 سنة</td>\n",
       "      <td>1412/12/24</td>\n",
       "    </tr>\n",
       "    <tr>\n",
       "      <th>829</th>\n",
       "      <td>طفل غلو غشن</td>\n",
       "      <td>ذكر</td>\n",
       "      <td>باكستاني</td>\n",
       "      <td>04 اشهر</td>\n",
       "      <td>1413/01/06</td>\n",
       "    </tr>\n",
       "    <tr>\n",
       "      <th>883</th>\n",
       "      <td>طفله مقبل عريميط حضيض</td>\n",
       "      <td>أنثى</td>\n",
       "      <td>سعودي</td>\n",
       "      <td>05 اشهر</td>\n",
       "      <td>1413/01/14</td>\n",
       "    </tr>\n",
       "    <tr>\n",
       "      <th>900</th>\n",
       "      <td>مديني غنيمان الرشيدى</td>\n",
       "      <td>ذكر</td>\n",
       "      <td>سعودي</td>\n",
       "      <td>52 سنة</td>\n",
       "      <td>1413/01/17</td>\n",
       "    </tr>\n",
       "    <tr>\n",
       "      <th>1039</th>\n",
       "      <td>طفل صبيحه كوثر نزير احمد</td>\n",
       "      <td>ذكر</td>\n",
       "      <td>باكستاني</td>\n",
       "      <td>05 اشهر</td>\n",
       "      <td>1413/02/10</td>\n",
       "    </tr>\n",
       "    <tr>\n",
       "      <th>1068</th>\n",
       "      <td>طفله سلمى لافى اللقمانى</td>\n",
       "      <td>أنثى</td>\n",
       "      <td>سعودي</td>\n",
       "      <td>08 اشهر</td>\n",
       "      <td>1413/02/14</td>\n",
       "    </tr>\n",
       "    <tr>\n",
       "      <th>1258</th>\n",
       "      <td>امل ياسين عبدالعزيز</td>\n",
       "      <td>ذكر</td>\n",
       "      <td>مصري</td>\n",
       "      <td>05 اشهر</td>\n",
       "      <td>1413/03/08</td>\n",
       "    </tr>\n",
       "    <tr>\n",
       "      <th>1285</th>\n",
       "      <td>طفل زينب محمد الامين</td>\n",
       "      <td>ذكر</td>\n",
       "      <td>موريتاني</td>\n",
       "      <td>05 اشهر</td>\n",
       "      <td>1413/03/12</td>\n",
       "    </tr>\n",
       "    <tr>\n",
       "      <th>1286</th>\n",
       "      <td>طفله زينب محمد الامين</td>\n",
       "      <td>أنثى</td>\n",
       "      <td>موريتاني</td>\n",
       "      <td>05 اشهر</td>\n",
       "      <td>1413/03/12</td>\n",
       "    </tr>\n",
       "  </tbody>\n",
       "</table>\n",
       "</div>"
      ],
      "text/plain": [
       "                            name gender nationality      age burial_date\n",
       "452   الامير الحسن الرضا السنوسي    ذكر        ليبي   65 سنة  1412/11/01\n",
       "803           حسن حاج حسين نصرتي    ذكر      إيراني   62 سنة  1412/12/22\n",
       "819              عثمان علي مهرام    ذكر    باكستاني   57 سنة  1412/12/24\n",
       "820              عثمان علي مهرام    ذكر    باكستاني   57 سنة  1412/12/24\n",
       "829                  طفل غلو غشن    ذكر    باكستاني  04 اشهر  1413/01/06\n",
       "883        طفله مقبل عريميط حضيض   أنثى       سعودي  05 اشهر  1413/01/14\n",
       "900         مديني غنيمان الرشيدى    ذكر       سعودي   52 سنة  1413/01/17\n",
       "1039    طفل صبيحه كوثر نزير احمد    ذكر    باكستاني  05 اشهر  1413/02/10\n",
       "1068     طفله سلمى لافى اللقمانى   أنثى       سعودي  08 اشهر  1413/02/14\n",
       "1258         امل ياسين عبدالعزيز    ذكر        مصري  05 اشهر  1413/03/08\n",
       "1285        طفل زينب محمد الامين    ذكر    موريتاني  05 اشهر  1413/03/12\n",
       "1286       طفله زينب محمد الامين   أنثى    موريتاني  05 اشهر  1413/03/12"
      ]
     },
     "execution_count": 31,
     "metadata": {},
     "output_type": "execute_result"
    }
   ],
   "source": [
    "# chack and remove any duplicates in the data\n",
    "print(data[data.duplicated()].shape)\n",
    "\n",
    "data[data.duplicated()]"
   ]
  },
  {
   "cell_type": "code",
   "execution_count": 32,
   "metadata": {},
   "outputs": [],
   "source": [
    "# We have 12 duplicated rows in our data. We will remove the duplicates from our data\n",
    "data.drop_duplicates(inplace=True)"
   ]
  },
  {
   "cell_type": "code",
   "execution_count": 33,
   "metadata": {},
   "outputs": [
    {
     "data": {
      "text/plain": [
       "(1488, 5)"
      ]
     },
     "execution_count": 33,
     "metadata": {},
     "output_type": "execute_result"
    }
   ],
   "source": [
    "data.shape"
   ]
  },
  {
   "cell_type": "code",
   "execution_count": 54,
   "metadata": {},
   "outputs": [],
   "source": [
    "# restructuring the age column and making separate year, month and day colunm \n",
    "\n",
    "data['age_unit'] = data.age.map(lambda x: x.split(' ')[1] if(pd.notnull(x)) else x)\n",
    "data['age'] = data.age.map(lambda x: x.split(' ')[0] if(pd.notnull(x)) else x)"
   ]
  },
  {
   "cell_type": "code",
   "execution_count": null,
   "metadata": {},
   "outputs": [],
   "source": [
    "data['year'] = data.burial_date.map(lambda x: x.split('/')[0]) "
   ]
  },
  {
   "cell_type": "code",
   "execution_count": 55,
   "metadata": {},
   "outputs": [
    {
     "data": {
      "text/html": [
       "<div>\n",
       "<style scoped>\n",
       "    .dataframe tbody tr th:only-of-type {\n",
       "        vertical-align: middle;\n",
       "    }\n",
       "\n",
       "    .dataframe tbody tr th {\n",
       "        vertical-align: top;\n",
       "    }\n",
       "\n",
       "    .dataframe thead th {\n",
       "        text-align: right;\n",
       "    }\n",
       "</style>\n",
       "<table border=\"1\" class=\"dataframe\">\n",
       "  <thead>\n",
       "    <tr style=\"text-align: right;\">\n",
       "      <th></th>\n",
       "      <th>name</th>\n",
       "      <th>gender</th>\n",
       "      <th>nationality</th>\n",
       "      <th>age</th>\n",
       "      <th>burial_date</th>\n",
       "      <th>age_unit</th>\n",
       "    </tr>\n",
       "  </thead>\n",
       "  <tbody>\n",
       "    <tr>\n",
       "      <th>0</th>\n",
       "      <td>عيشه بنت محمد تكروني</td>\n",
       "      <td>أنثى</td>\n",
       "      <td>سعودي</td>\n",
       "      <td>NaN</td>\n",
       "      <td>1364/08/29</td>\n",
       "      <td>NaN</td>\n",
       "    </tr>\n",
       "    <tr>\n",
       "      <th>1</th>\n",
       "      <td>عفيه بنت محمد</td>\n",
       "      <td>أنثى</td>\n",
       "      <td>سعودي</td>\n",
       "      <td>NaN</td>\n",
       "      <td>1364/08/29</td>\n",
       "      <td>NaN</td>\n",
       "    </tr>\n",
       "    <tr>\n",
       "      <th>2</th>\n",
       "      <td>منير بنت عوده</td>\n",
       "      <td>أنثى</td>\n",
       "      <td>سعودي</td>\n",
       "      <td>2</td>\n",
       "      <td>1365/01/10</td>\n",
       "      <td>سنة</td>\n",
       "    </tr>\n",
       "    <tr>\n",
       "      <th>3</th>\n",
       "      <td>زهره علي بادري</td>\n",
       "      <td>أنثى</td>\n",
       "      <td>سعودي</td>\n",
       "      <td>50</td>\n",
       "      <td>1365/04/17</td>\n",
       "      <td>سنة</td>\n",
       "    </tr>\n",
       "    <tr>\n",
       "      <th>4</th>\n",
       "      <td>زينب بنت عقل سي</td>\n",
       "      <td>أنثى</td>\n",
       "      <td>سعودي</td>\n",
       "      <td>NaN</td>\n",
       "      <td>1365/05/22</td>\n",
       "      <td>NaN</td>\n",
       "    </tr>\n",
       "  </tbody>\n",
       "</table>\n",
       "</div>"
      ],
      "text/plain": [
       "                   name gender nationality  age burial_date age_unit\n",
       "0  عيشه بنت محمد تكروني   أنثى       سعودي  NaN  1364/08/29      NaN\n",
       "1         عفيه بنت محمد   أنثى       سعودي  NaN  1364/08/29      NaN\n",
       "2         منير بنت عوده   أنثى       سعودي    2  1365/01/10      سنة\n",
       "3        زهره علي بادري   أنثى       سعودي   50  1365/04/17      سنة\n",
       "4       زينب بنت عقل سي   أنثى       سعودي  NaN  1365/05/22      NaN"
      ]
     },
     "execution_count": 55,
     "metadata": {},
     "output_type": "execute_result"
    }
   ],
   "source": [
    "data.head()"
   ]
  },
  {
   "cell_type": "markdown",
   "metadata": {},
   "source": [
    "#### 3- Data Exploration and Cleaning"
   ]
  },
  {
   "cell_type": "markdown",
   "metadata": {},
   "source": [
    "#### 3- Modeling "
   ]
  },
  {
   "cell_type": "markdown",
   "metadata": {},
   "source": [
    "#### 4- Results and Summary"
   ]
  }
 ],
 "metadata": {
  "kernelspec": {
   "display_name": "Python 3",
   "language": "python",
   "name": "python3"
  },
  "language_info": {
   "codemirror_mode": {
    "name": "ipython",
    "version": 3
   },
   "file_extension": ".py",
   "mimetype": "text/x-python",
   "name": "python",
   "nbconvert_exporter": "python",
   "pygments_lexer": "ipython3",
   "version": "3.7.1"
  }
 },
 "nbformat": 4,
 "nbformat_minor": 2
}
